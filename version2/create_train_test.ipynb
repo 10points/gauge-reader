{
 "cells": [
  {
   "cell_type": "code",
   "execution_count": 28,
   "metadata": {},
   "outputs": [],
   "source": [
    "import os\n",
    "import math\n",
    "import random\n",
    "import shutil\n",
    "import pathlib\n",
    "import numpy as np\n",
    "import glob\n",
    "import random"
   ]
  },
  {
   "cell_type": "code",
   "execution_count": 20,
   "metadata": {},
   "outputs": [],
   "source": [
    "SourceFile = \"gauge_data\""
   ]
  },
  {
   "cell_type": "code",
   "execution_count": 18,
   "metadata": {},
   "outputs": [],
   "source": [
    "\n",
    "# Create target (test) folder \n",
    "os.mkdir(\"test\")"
   ]
  },
  {
   "cell_type": "code",
   "execution_count": 21,
   "metadata": {},
   "outputs": [
    {
     "name": "stdout",
     "output_type": "stream",
     "text": [
      "There are 41 directories and 0 images in gauge_data.\n",
      "There are 0 directories and 47 images in gauge_data/psi_0.3.\n",
      "There are 0 directories and 47 images in gauge_data/psi_0.4.\n",
      "There are 0 directories and 47 images in gauge_data/psi_2.9.\n",
      "There are 0 directories and 47 images in gauge_data/psi_2.0.\n",
      "There are 0 directories and 47 images in gauge_data/psi_2.7.\n",
      "There are 0 directories and 47 images in gauge_data/psi_2.6.\n",
      "There are 0 directories and 47 images in gauge_data/psi_2.1.\n",
      "There are 0 directories and 47 images in gauge_data/psi_0.5.\n",
      "There are 0 directories and 47 images in gauge_data/psi_2.8.\n",
      "There are 0 directories and 47 images in gauge_data/psi_0.2.\n",
      "There are 0 directories and 47 images in gauge_data/psi_-0.6.\n",
      "There are 0 directories and 47 images in gauge_data/psi_-0.1.\n",
      "There are 0 directories and 47 images in gauge_data/psi_-0.8.\n",
      "There are 0 directories and 47 images in gauge_data/psi_1.9.\n",
      "There are 0 directories and 47 images in gauge_data/psi_1.0.\n",
      "There are 0 directories and 47 images in gauge_data/psi_1.7.\n",
      "There are 0 directories and 47 images in gauge_data/psi_-0.9.\n",
      "There are 0 directories and 47 images in gauge_data/psi_-0.0.\n",
      "There are 0 directories and 47 images in gauge_data/psi_-0.7.\n",
      "There are 0 directories and 47 images in gauge_data/psi_1.6.\n",
      "There are 0 directories and 47 images in gauge_data/psi_1.1.\n",
      "There are 0 directories and 47 images in gauge_data/psi_1.8.\n",
      "There are 0 directories and 47 images in gauge_data/psi_0.7.\n",
      "There are 0 directories and 47 images in gauge_data/psi_2.4.\n",
      "There are 0 directories and 47 images in gauge_data/psi_0.9.\n",
      "There are 0 directories and 47 images in gauge_data/psi_2.3.\n",
      "There are 0 directories and 47 images in gauge_data/psi_-1.0.\n",
      "There are 0 directories and 47 images in gauge_data/psi_2.2.\n",
      "There are 0 directories and 47 images in gauge_data/psi_2.5.\n",
      "There are 0 directories and 47 images in gauge_data/psi_0.8.\n",
      "There are 0 directories and 47 images in gauge_data/psi_0.1.\n",
      "There are 0 directories and 47 images in gauge_data/psi_0.6.\n",
      "There are 0 directories and 47 images in gauge_data/psi_3.0.\n",
      "There are 0 directories and 47 images in gauge_data/psi_1.4.\n",
      "There are 0 directories and 47 images in gauge_data/psi_1.3.\n",
      "There are 0 directories and 47 images in gauge_data/psi_-0.2.\n",
      "There are 0 directories and 47 images in gauge_data/psi_-0.5.\n",
      "There are 0 directories and 47 images in gauge_data/psi_1.2.\n",
      "There are 0 directories and 47 images in gauge_data/psi_1.5.\n",
      "There are 0 directories and 47 images in gauge_data/psi_-0.4.\n",
      "There are 0 directories and 47 images in gauge_data/psi_-0.3.\n"
     ]
    }
   ],
   "source": [
    "for dirpath, dirnames, filenames in os.walk(SourceFile):\n",
    "  print(f\"There are {len(dirnames)} directories and {len(filenames)} images in {dirpath}.\")"
   ]
  },
  {
   "cell_type": "code",
   "execution_count": 24,
   "metadata": {},
   "outputs": [],
   "source": [
    "class_gauge = []\n",
    "for dirpath, dirnames, filenames in os.walk(SourceFile):\n",
    "    if dirpath == SourceFile:\n",
    "        continue\n",
    "    class_gauge.append(dirpath[len(SourceFile)+1:])"
   ]
  },
  {
   "cell_type": "code",
   "execution_count": 25,
   "metadata": {},
   "outputs": [
    {
     "data": {
      "text/plain": [
       "['psi_0.3',\n",
       " 'psi_0.4',\n",
       " 'psi_2.9',\n",
       " 'psi_2.0',\n",
       " 'psi_2.7',\n",
       " 'psi_2.6',\n",
       " 'psi_2.1',\n",
       " 'psi_0.5',\n",
       " 'psi_2.8',\n",
       " 'psi_0.2',\n",
       " 'psi_-0.6',\n",
       " 'psi_-0.1',\n",
       " 'psi_-0.8',\n",
       " 'psi_1.9',\n",
       " 'psi_1.0',\n",
       " 'psi_1.7',\n",
       " 'psi_-0.9',\n",
       " 'psi_-0.0',\n",
       " 'psi_-0.7',\n",
       " 'psi_1.6',\n",
       " 'psi_1.1',\n",
       " 'psi_1.8',\n",
       " 'psi_0.7',\n",
       " 'psi_2.4',\n",
       " 'psi_0.9',\n",
       " 'psi_2.3',\n",
       " 'psi_-1.0',\n",
       " 'psi_2.2',\n",
       " 'psi_2.5',\n",
       " 'psi_0.8',\n",
       " 'psi_0.1',\n",
       " 'psi_0.6',\n",
       " 'psi_3.0',\n",
       " 'psi_1.4',\n",
       " 'psi_1.3',\n",
       " 'psi_-0.2',\n",
       " 'psi_-0.5',\n",
       " 'psi_1.2',\n",
       " 'psi_1.5',\n",
       " 'psi_-0.4',\n",
       " 'psi_-0.3']"
      ]
     },
     "execution_count": 25,
     "metadata": {},
     "output_type": "execute_result"
    }
   ],
   "source": [
    "class_gauge"
   ]
  },
  {
   "cell_type": "code",
   "execution_count": 26,
   "metadata": {},
   "outputs": [],
   "source": [
    "# Create sub-class in test folder\n",
    "for group in class_gauge:\n",
    "    os.mkdir(f\"test/{group}\")"
   ]
  },
  {
   "cell_type": "code",
   "execution_count": 27,
   "metadata": {},
   "outputs": [],
   "source": [
    "test_path = \"test\""
   ]
  },
  {
   "cell_type": "code",
   "execution_count": 31,
   "metadata": {},
   "outputs": [],
   "source": [
    "def sampling_to_test(source_path, target_path, test_ratio):\n",
    "\n",
    "  global dirpath\n",
    "  file_class_name = os.listdir(dirpath)\n",
    "  for dirpath, dirnames, filenames in os.walk(source_path):\n",
    "\n",
    "      if dirpath == source_path:\n",
    "        continue\n",
    "       \n",
    "      else:\n",
    "        for file in file_class_name:\n",
    "          if file == \"gauge_0.png\":\n",
    "            shutil.move(os.path.join(dirpath, file), f\"{target_path}/{dirpath[len(source_path):]}\")\n",
    "\n",
    "        # Shuffle files in folder\n",
    "        random_files = random.sample(file_class_name, len(filenames)-1)\n",
    "\n",
    "        # File to migrate\n",
    "        list_files = random_files[:math.ceil((len(filenames)-1) * test_ratio)] # ratio of test data\n",
    "            \n",
    "        # Migrate file to other directory\n",
    "        for class_name in list_files:\n",
    "          if class_name == \"gauge_0.png\":\n",
    "            continue\n",
    "          else:\n",
    "            shutil.move(os.path.join(dirpath, class_name), f\"{target_path}/{dirpath[len(source_path):]}\")"
   ]
  },
  {
   "cell_type": "code",
   "execution_count": 32,
   "metadata": {},
   "outputs": [],
   "source": [
    "sampling_to_test(source_path=SourceFile, \n",
    "                 target_path=test_path,\n",
    "                 test_ratio=0.1)"
   ]
  },
  {
   "cell_type": "code",
   "execution_count": 33,
   "metadata": {},
   "outputs": [
    {
     "name": "stdout",
     "output_type": "stream",
     "text": [
      "There are 41 directories and 0 images in test.\n",
      "There are 0 directories and 6 images in test/psi_0.3.\n",
      "There are 0 directories and 6 images in test/psi_0.4.\n",
      "There are 0 directories and 6 images in test/psi_2.9.\n",
      "There are 0 directories and 6 images in test/psi_2.0.\n",
      "There are 0 directories and 6 images in test/psi_2.7.\n",
      "There are 0 directories and 6 images in test/psi_2.6.\n",
      "There are 0 directories and 6 images in test/psi_2.1.\n",
      "There are 0 directories and 6 images in test/psi_0.5.\n",
      "There are 0 directories and 6 images in test/psi_2.8.\n",
      "There are 0 directories and 6 images in test/psi_0.2.\n",
      "There are 0 directories and 6 images in test/psi_-0.6.\n",
      "There are 0 directories and 6 images in test/psi_-0.1.\n",
      "There are 0 directories and 6 images in test/psi_-0.8.\n",
      "There are 0 directories and 6 images in test/psi_1.9.\n",
      "There are 0 directories and 6 images in test/psi_1.0.\n",
      "There are 0 directories and 6 images in test/psi_1.7.\n",
      "There are 0 directories and 6 images in test/psi_-0.9.\n",
      "There are 0 directories and 6 images in test/psi_-0.0.\n",
      "There are 0 directories and 6 images in test/psi_-0.7.\n",
      "There are 0 directories and 5 images in test/psi_1.6.\n",
      "There are 0 directories and 6 images in test/psi_1.1.\n",
      "There are 0 directories and 6 images in test/psi_1.8.\n",
      "There are 0 directories and 6 images in test/psi_0.7.\n",
      "There are 0 directories and 6 images in test/psi_2.4.\n",
      "There are 0 directories and 6 images in test/psi_0.9.\n",
      "There are 0 directories and 5 images in test/psi_2.3.\n",
      "There are 0 directories and 6 images in test/psi_-1.0.\n",
      "There are 0 directories and 6 images in test/psi_2.2.\n",
      "There are 0 directories and 6 images in test/psi_2.5.\n",
      "There are 0 directories and 6 images in test/psi_0.8.\n",
      "There are 0 directories and 6 images in test/psi_0.1.\n",
      "There are 0 directories and 6 images in test/psi_0.6.\n",
      "There are 0 directories and 6 images in test/psi_3.0.\n",
      "There are 0 directories and 6 images in test/psi_1.4.\n",
      "There are 0 directories and 6 images in test/psi_1.3.\n",
      "There are 0 directories and 6 images in test/psi_-0.2.\n",
      "There are 0 directories and 6 images in test/psi_-0.5.\n",
      "There are 0 directories and 6 images in test/psi_1.2.\n",
      "There are 0 directories and 6 images in test/psi_1.5.\n",
      "There are 0 directories and 6 images in test/psi_-0.4.\n",
      "There are 0 directories and 6 images in test/psi_-0.3.\n"
     ]
    }
   ],
   "source": [
    "for dirpath, dirnames, filenames in os.walk(test_path):\n",
    "  print(f\"There are {len(dirnames)} directories and {len(filenames)} images in {dirpath}.\")"
   ]
  }
 ],
 "metadata": {
  "kernelspec": {
   "display_name": "Python 3.10.5 64-bit",
   "language": "python",
   "name": "python3"
  },
  "language_info": {
   "codemirror_mode": {
    "name": "ipython",
    "version": 3
   },
   "file_extension": ".py",
   "mimetype": "text/x-python",
   "name": "python",
   "nbconvert_exporter": "python",
   "pygments_lexer": "ipython3",
   "version": "3.10.5"
  },
  "orig_nbformat": 4,
  "vscode": {
   "interpreter": {
    "hash": "aee8b7b246df8f9039afb4144a1f6fd8d2ca17a180786b69acc140d282b71a49"
   }
  }
 },
 "nbformat": 4,
 "nbformat_minor": 2
}
