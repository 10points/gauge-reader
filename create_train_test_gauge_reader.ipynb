{
  "nbformat": 4,
  "nbformat_minor": 0,
  "metadata": {
    "colab": {
      "name": "create_train_test_gauge-reader.ipynb",
      "provenance": [],
      "collapsed_sections": [],
      "authorship_tag": "ABX9TyNFhymyndEMM1bgiaxSScWV",
      "include_colab_link": true
    },
    "kernelspec": {
      "name": "python3",
      "display_name": "Python 3"
    },
    "language_info": {
      "name": "python"
    }
  },
  "cells": [
    {
      "cell_type": "markdown",
      "metadata": {
        "id": "view-in-github",
        "colab_type": "text"
      },
      "source": [
        "<a href=\"https://colab.research.google.com/github/10points/gauge-reader/blob/main/create_train_test_gauge_reader.ipynb\" target=\"_parent\"><img src=\"https://colab.research.google.com/assets/colab-badge.svg\" alt=\"Open In Colab\"/></a>"
      ]
    },
    {
      "cell_type": "code",
      "source": [
        "import zipfile\n",
        "import os\n",
        "import math\n",
        "import random\n",
        "import shutil"
      ],
      "metadata": {
        "id": "ofCZMuT064ec"
      },
      "execution_count": 1,
      "outputs": []
    },
    {
      "cell_type": "code",
      "source": [
        "from google.colab import drive\n",
        "drive.mount('/content/drive')"
      ],
      "metadata": {
        "colab": {
          "base_uri": "https://localhost:8080/"
        },
        "id": "w0YeFVKLjEem",
        "outputId": "ba5c2096-1f9d-4571-849e-58af1a2e08e7"
      },
      "execution_count": 2,
      "outputs": [
        {
          "output_type": "stream",
          "name": "stdout",
          "text": [
            "Mounted at /content/drive\n"
          ]
        }
      ]
    },
    {
      "cell_type": "code",
      "source": [
        "# Unzip file\n",
        "zip_ref = zipfile.ZipFile(\"/content/drive/MyDrive/gauge_work/datasets.zip\")\n",
        "zip_ref.extractall()\n",
        "zip_ref.close()"
      ],
      "metadata": {
        "id": "igOrV5FxqE68"
      },
      "execution_count": 3,
      "outputs": []
    },
    {
      "cell_type": "code",
      "source": [
        "# create test directory\n",
        "os.mkdir('/content/test/')"
      ],
      "metadata": {
        "id": "rwusc0Fu17O3"
      },
      "execution_count": 4,
      "outputs": []
    },
    {
      "cell_type": "code",
      "source": [
        "folder_names = [\"CP_boiler_3\", \"BF_meter\",\"BP_control\",\"BP_compressor_3\", \"BP_compressor_2\", \"BP_compressor_4\",\n",
        "                \"BW_meter_1\", \"CP_boiler_2\", \"BP_boiler_1\", \"BP_compressor_1\", \"CP_compressor_2\", \"BP_boiler_2\",\n",
        "                \"CP_compressor_1\", \"CP_boiler_1\", \"BE_meter\", \"BT_meter\", \"BW_meter_2\", \"BP_boiler_4\", \"BP_boiler_5\",\n",
        "                \"BP_boiler_3\"]\n",
        "print(len(folder_names))"
      ],
      "metadata": {
        "colab": {
          "base_uri": "https://localhost:8080/"
        },
        "id": "5ikueLHk2Exo",
        "outputId": "c8da594f-e10d-485a-cb96-c6eec44a4b3c"
      },
      "execution_count": 5,
      "outputs": [
        {
          "output_type": "stream",
          "name": "stdout",
          "text": [
            "20\n"
          ]
        }
      ]
    },
    {
      "cell_type": "code",
      "source": [
        "# Create class's name folder in train directory\n",
        "for name in folder_names:\n",
        "  os.mkdir(f'/content/test/{name}')"
      ],
      "metadata": {
        "id": "atIkXzPM2Mdd"
      },
      "execution_count": 6,
      "outputs": []
    },
    {
      "cell_type": "code",
      "source": [
        "# print(len(\"/content/dataset\"))"
      ],
      "metadata": {
        "id": "IyhktBpk4KdH"
      },
      "execution_count": 7,
      "outputs": []
    },
    {
      "cell_type": "code",
      "source": [
        "def sampling_to_test(sourc_path, target_path):\n",
        "  for dirpath, dirnames, filenames in os.walk(source_path):\n",
        "    if dirpath == source_path:\n",
        "      continue\n",
        "    file_class_name = os.listdir(dirpath)\n",
        "    # print(file_class_name)\n",
        "    # print(f\"---{dirpath}----\")\n",
        "\n",
        "    # File to migrate\n",
        "    list_files = file_class_name[:math.ceil((len(filenames)) * 0.2)] # separated to test set for 20%\n",
        "    # print(list_files)\n",
        "    # print(f\"---{dirpath}----\")\n",
        "\n",
        "    # Migrate file to other directory\n",
        "    for class_name in list_files:\n",
        "        shutil.move(os.path.join(dirpath, class_name), f\"{target_path}/{dirpath[17:]}\")\n",
        "\n",
        "\n",
        "\n",
        "  # print(f\"There are {len(dirnames)} directories and {len(filenames)} images in {dirpath}.\")"
      ],
      "metadata": {
        "id": "x__EiNfzqbce"
      },
      "execution_count": 8,
      "outputs": []
    },
    {
      "cell_type": "code",
      "source": [
        "source_path = \"/content/dataset\"\n",
        "target_path = \"/content/test\"\n",
        "\n",
        "sampling_to_test(source_path, target_path)"
      ],
      "metadata": {
        "id": "3VHQ_GNC1zC8"
      },
      "execution_count": 9,
      "outputs": []
    },
    {
      "cell_type": "code",
      "source": [
        "for dirpath, dirnames, filenames in os.walk(\"/content/test\"):\n",
        "  print(f\"There are {len(dirnames)} directories and {len(filenames)} images in {dirpath}.\")"
      ],
      "metadata": {
        "id": "4wlMcdQNqr-7",
        "colab": {
          "base_uri": "https://localhost:8080/"
        },
        "outputId": "9945fde6-b233-4886-ea25-1be6f73adbd6"
      },
      "execution_count": 10,
      "outputs": [
        {
          "output_type": "stream",
          "name": "stdout",
          "text": [
            "There are 20 directories and 0 images in /content/test.\n",
            "There are 0 directories and 2 images in /content/test/CP_boiler_2.\n",
            "There are 0 directories and 2 images in /content/test/BP_boiler_4.\n",
            "There are 0 directories and 3 images in /content/test/BP_boiler_3.\n",
            "There are 0 directories and 2 images in /content/test/CP_boiler_1.\n",
            "There are 0 directories and 4 images in /content/test/BP_compressor_3.\n",
            "There are 0 directories and 5 images in /content/test/BP_compressor_2.\n",
            "There are 0 directories and 3 images in /content/test/BT_meter.\n",
            "There are 0 directories and 3 images in /content/test/CP_boiler_3.\n",
            "There are 0 directories and 4 images in /content/test/BW_meter_1.\n",
            "There are 0 directories and 3 images in /content/test/BP_boiler_1.\n",
            "There are 0 directories and 1 images in /content/test/CP_compressor_1.\n",
            "There are 0 directories and 3 images in /content/test/BW_meter_2.\n",
            "There are 0 directories and 3 images in /content/test/BP_boiler_5.\n",
            "There are 0 directories and 2 images in /content/test/CP_compressor_2.\n",
            "There are 0 directories and 2 images in /content/test/BF_meter.\n",
            "There are 0 directories and 3 images in /content/test/BP_boiler_2.\n",
            "There are 0 directories and 3 images in /content/test/BP_compressor_1.\n",
            "There are 0 directories and 1 images in /content/test/BE_meter.\n",
            "There are 0 directories and 2 images in /content/test/BP_compressor_4.\n",
            "There are 0 directories and 3 images in /content/test/BP_control.\n"
          ]
        }
      ]
    },
    {
      "cell_type": "code",
      "source": [
        "os.rename(\"/content/dataset\",\"/content/train\")"
      ],
      "metadata": {
        "id": "jokvoGPa53-M"
      },
      "execution_count": 11,
      "outputs": []
    },
    {
      "cell_type": "code",
      "source": [
        "import os\n",
        "if os.path.exists(\"/content/train/files.txt\"):\n",
        "  os.remove(\"/content/train/files.txt\")\n",
        "else:\n",
        "  print(\"The file does not exist\")"
      ],
      "metadata": {
        "id": "W_U9OVCx6Qaa"
      },
      "execution_count": 12,
      "outputs": []
    },
    {
      "cell_type": "code",
      "source": [
        "for dirpath, dirnames, filenames in os.walk(\"/content/train\"):\n",
        "  print(f\"There are {len(dirnames)} directories and {len(filenames)} images in {dirpath}.\")"
      ],
      "metadata": {
        "colab": {
          "base_uri": "https://localhost:8080/"
        },
        "id": "VkmJsRUu6chM",
        "outputId": "55c79552-bf96-430a-e7e6-bdb587145c08"
      },
      "execution_count": 13,
      "outputs": [
        {
          "output_type": "stream",
          "name": "stdout",
          "text": [
            "There are 20 directories and 0 images in /content/train.\n",
            "There are 0 directories and 6 images in /content/train/CP_boiler_2.\n",
            "There are 0 directories and 6 images in /content/train/BP_boiler_4.\n",
            "There are 0 directories and 9 images in /content/train/BP_boiler_3.\n",
            "There are 0 directories and 4 images in /content/train/CP_boiler_1.\n",
            "There are 0 directories and 12 images in /content/train/BP_compressor_3.\n",
            "There are 0 directories and 20 images in /content/train/BP_compressor_2.\n",
            "There are 0 directories and 8 images in /content/train/BT_meter.\n",
            "There are 0 directories and 9 images in /content/train/CP_boiler_3.\n",
            "There are 0 directories and 12 images in /content/train/BW_meter_1.\n",
            "There are 0 directories and 12 images in /content/train/BP_boiler_1.\n",
            "There are 0 directories and 1 images in /content/train/CP_compressor_1.\n",
            "There are 0 directories and 9 images in /content/train/BW_meter_2.\n",
            "There are 0 directories and 9 images in /content/train/BP_boiler_5.\n",
            "There are 0 directories and 4 images in /content/train/CP_compressor_2.\n",
            "There are 0 directories and 8 images in /content/train/BF_meter.\n",
            "There are 0 directories and 8 images in /content/train/BP_boiler_2.\n",
            "There are 0 directories and 8 images in /content/train/BP_compressor_1.\n",
            "There are 0 directories and 4 images in /content/train/BE_meter.\n",
            "There are 0 directories and 6 images in /content/train/BP_compressor_4.\n",
            "There are 0 directories and 11 images in /content/train/BP_control.\n"
          ]
        }
      ]
    },
    {
      "cell_type": "code",
      "source": [
        "# !zip -r /content/train.zip /content/train"
      ],
      "metadata": {
        "id": "2eFklkeo7oiM",
        "colab": {
          "base_uri": "https://localhost:8080/"
        },
        "outputId": "2dd096f9-7225-407e-ec12-a864dc01baa1"
      },
      "execution_count": 19,
      "outputs": [
        {
          "output_type": "stream",
          "name": "stdout",
          "text": [
            "\tzip warning: name not matched: /train\n",
            "\n",
            "zip error: Nothing to do! (try: zip -r /train.zip . -i /train)\n"
          ]
        }
      ]
    },
    {
      "cell_type": "code",
      "source": [
        "# !zip -r /content/test.zip /content/test"
      ],
      "metadata": {
        "colab": {
          "base_uri": "https://localhost:8080/"
        },
        "id": "d-O5D1yiWQI4",
        "outputId": "2b82c7e5-f91a-47cb-f11d-8e7f56515638"
      },
      "execution_count": 15,
      "outputs": [
        {
          "output_type": "stream",
          "name": "stdout",
          "text": [
            "  adding: content/test/ (stored 0%)\n",
            "  adding: content/test/CP_boiler_2/ (stored 0%)\n",
            "  adding: content/test/CP_boiler_2/PXL_20220601_030357061.jpg (deflated 0%)\n",
            "  adding: content/test/CP_boiler_2/PXL_20220601_030408746.jpg (deflated 1%)\n",
            "  adding: content/test/BP_boiler_4/ (stored 0%)\n",
            "  adding: content/test/BP_boiler_4/IMG_4207.jpg (deflated 1%)\n",
            "  adding: content/test/BP_boiler_4/IMG_4201.jpg (deflated 1%)\n",
            "  adding: content/test/BP_boiler_3/ (stored 0%)\n",
            "  adding: content/test/BP_boiler_3/IMG_4192.jpg (deflated 3%)\n",
            "  adding: content/test/BP_boiler_3/IMG_4189.jpg (deflated 3%)\n",
            "  adding: content/test/BP_boiler_3/IMG_4188.jpg (deflated 3%)\n",
            "  adding: content/test/CP_boiler_1/ (stored 0%)\n",
            "  adding: content/test/CP_boiler_1/PXL_20220601_030342081.jpg (deflated 1%)\n",
            "  adding: content/test/CP_boiler_1/PXL_20220601_030347332.jpg (deflated 1%)\n",
            "  adding: content/test/BP_compressor_3/ (stored 0%)\n",
            "  adding: content/test/BP_compressor_3/IMG_4295.jpg (deflated 1%)\n",
            "  adding: content/test/BP_compressor_3/IMG_4297.jpg (deflated 1%)\n",
            "  adding: content/test/BP_compressor_3/IMG_4298.jpg (deflated 1%)\n",
            "  adding: content/test/BP_compressor_3/IMG_4288.jpg (deflated 1%)\n",
            "  adding: content/test/BP_compressor_2/ (stored 0%)\n",
            "  adding: content/test/BP_compressor_2/IMG_4268.jpg (deflated 1%)\n",
            "  adding: content/test/BP_compressor_2/IMG_4262.jpg (deflated 2%)\n",
            "  adding: content/test/BP_compressor_2/IMG_4266.jpg (deflated 1%)\n",
            "  adding: content/test/BP_compressor_2/IMG_4281.jpg (deflated 1%)\n",
            "  adding: content/test/BP_compressor_2/IMG_4283.jpg (deflated 1%)\n",
            "  adding: content/test/BT_meter/ (stored 0%)\n",
            "  adding: content/test/BT_meter/IMG_4228.jpg (deflated 2%)\n",
            "  adding: content/test/BT_meter/IMG_4223.jpg (deflated 2%)\n",
            "  adding: content/test/BT_meter/IMG_4222.jpg (deflated 2%)\n",
            "  adding: content/test/CP_boiler_3/ (stored 0%)\n",
            "  adding: content/test/CP_boiler_3/PXL_20220601_030704322.jpg (deflated 1%)\n",
            "  adding: content/test/CP_boiler_3/PXL_20220601_030655357.jpg (deflated 1%)\n",
            "  adding: content/test/CP_boiler_3/PXL_20220601_030652728.jpg (deflated 1%)\n",
            "  adding: content/test/BW_meter_1/ (stored 0%)\n",
            "  adding: content/test/BW_meter_1/IMG_4126.jpg (deflated 2%)\n",
            "  adding: content/test/BW_meter_1/IMG_4117.jpg (deflated 1%)\n",
            "  adding: content/test/BW_meter_1/IMG_4123.jpg (deflated 2%)\n",
            "  adding: content/test/BW_meter_1/IMG_4119.jpg (deflated 2%)\n",
            "  adding: content/test/BP_boiler_1/ (stored 0%)\n",
            "  adding: content/test/BP_boiler_1/IMG_4157.jpg (deflated 2%)\n",
            "  adding: content/test/BP_boiler_1/IMG_4153.jpg (deflated 3%)\n",
            "  adding: content/test/BP_boiler_1/IMG_4164.jpg (deflated 2%)\n",
            "  adding: content/test/CP_compressor_1/ (stored 0%)\n",
            "  adding: content/test/CP_compressor_1/PXL_20220601_031001741.jpg (deflated 0%)\n",
            "  adding: content/test/BW_meter_2/ (stored 0%)\n",
            "  adding: content/test/BW_meter_2/IMG_4137.jpg (deflated 1%)\n",
            "  adding: content/test/BW_meter_2/IMG_4130.jpg (deflated 1%)\n",
            "  adding: content/test/BW_meter_2/IMG_4135.jpg (deflated 2%)\n",
            "  adding: content/test/BP_boiler_5/ (stored 0%)\n",
            "  adding: content/test/BP_boiler_5/IMG_4212.jpg (deflated 2%)\n",
            "  adding: content/test/BP_boiler_5/IMG_4220.jpg (deflated 2%)\n",
            "  adding: content/test/BP_boiler_5/IMG_4219.jpg (deflated 2%)\n",
            "  adding: content/test/CP_compressor_2/ (stored 0%)\n",
            "  adding: content/test/CP_compressor_2/PXL_20220601_030954607.MP.jpg (deflated 0%)\n",
            "  adding: content/test/CP_compressor_2/PXL_20220601_031023090.jpg (deflated 0%)\n",
            "  adding: content/test/BF_meter/ (stored 0%)\n",
            "  adding: content/test/BF_meter/IMG_4141.jpg (deflated 1%)\n",
            "  adding: content/test/BF_meter/IMG_4146.jpg (deflated 1%)\n",
            "  adding: content/test/BP_boiler_2/ (stored 0%)\n",
            "  adding: content/test/BP_boiler_2/IMG_4170.jpg (deflated 2%)\n",
            "  adding: content/test/BP_boiler_2/IMG_4172.jpg (deflated 1%)\n",
            "  adding: content/test/BP_boiler_2/IMG_4166.jpg (deflated 1%)\n",
            "  adding: content/test/BP_compressor_1/ (stored 0%)\n",
            "  adding: content/test/BP_compressor_1/IMG_4256.jpg (deflated 2%)\n",
            "  adding: content/test/BP_compressor_1/IMG_4250.jpg (deflated 1%)\n",
            "  adding: content/test/BP_compressor_1/IMG_4248.jpg (deflated 2%)\n",
            "  adding: content/test/BE_meter/ (stored 0%)\n",
            "  adding: content/test/BE_meter/IMG_4310.jpg (deflated 6%)\n",
            "  adding: content/test/BP_compressor_4/ (stored 0%)\n",
            "  adding: content/test/BP_compressor_4/IMG_4306.jpg (deflated 1%)\n",
            "  adding: content/test/BP_compressor_4/IMG_4304.jpg (deflated 1%)\n",
            "  adding: content/test/BP_control/ (stored 0%)\n",
            "  adding: content/test/BP_control/IMG_4245.jpg (deflated 2%)\n",
            "  adding: content/test/BP_control/IMG_4242.jpg (deflated 2%)\n",
            "  adding: content/test/BP_control/IMG_4240.jpg (deflated 2%)\n"
          ]
        }
      ]
    },
    {
      "cell_type": "code",
      "source": [
        "from google.colab import files\n",
        "# files.download(\"/train.zip\")"
      ],
      "metadata": {
        "colab": {
          "base_uri": "https://localhost:8080/",
          "height": 17
        },
        "id": "A40ZpjrvWTsC",
        "outputId": "81d1eb0c-33d2-4883-f690-88f85f046594"
      },
      "execution_count": 18,
      "outputs": [
        {
          "output_type": "display_data",
          "data": {
            "text/plain": [
              "<IPython.core.display.Javascript object>"
            ],
            "application/javascript": [
              "\n",
              "    async function download(id, filename, size) {\n",
              "      if (!google.colab.kernel.accessAllowed) {\n",
              "        return;\n",
              "      }\n",
              "      const div = document.createElement('div');\n",
              "      const label = document.createElement('label');\n",
              "      label.textContent = `Downloading \"${filename}\": `;\n",
              "      div.appendChild(label);\n",
              "      const progress = document.createElement('progress');\n",
              "      progress.max = size;\n",
              "      div.appendChild(progress);\n",
              "      document.body.appendChild(div);\n",
              "\n",
              "      const buffers = [];\n",
              "      let downloaded = 0;\n",
              "\n",
              "      const channel = await google.colab.kernel.comms.open(id);\n",
              "      // Send a message to notify the kernel that we're ready.\n",
              "      channel.send({})\n",
              "\n",
              "      for await (const message of channel.messages) {\n",
              "        // Send a message to notify the kernel that we're ready.\n",
              "        channel.send({})\n",
              "        if (message.buffers) {\n",
              "          for (const buffer of message.buffers) {\n",
              "            buffers.push(buffer);\n",
              "            downloaded += buffer.byteLength;\n",
              "            progress.value = downloaded;\n",
              "          }\n",
              "        }\n",
              "      }\n",
              "      const blob = new Blob(buffers, {type: 'application/binary'});\n",
              "      const a = document.createElement('a');\n",
              "      a.href = window.URL.createObjectURL(blob);\n",
              "      a.download = filename;\n",
              "      div.appendChild(a);\n",
              "      a.click();\n",
              "      div.remove();\n",
              "    }\n",
              "  "
            ]
          },
          "metadata": {}
        },
        {
          "output_type": "display_data",
          "data": {
            "text/plain": [
              "<IPython.core.display.Javascript object>"
            ],
            "application/javascript": [
              "download(\"download_48bf3759-55e9-441a-ac50-d161897ca4eb\", \"train.zip\", 221867242)"
            ]
          },
          "metadata": {}
        }
      ]
    }
  ]
}